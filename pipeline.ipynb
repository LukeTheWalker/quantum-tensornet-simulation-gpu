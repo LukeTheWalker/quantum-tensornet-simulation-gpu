{
 "cells": [
  {
   "cell_type": "code",
   "execution_count": 1,
   "metadata": {},
   "outputs": [
    {
     "data": {
      "image/png": "[encoded data removed]",
      "text/plain": [
       "<Figure size 454.517x200.667 with 1 Axes>"
      ]
     },
     "execution_count": 1,
     "metadata": {},
     "output_type": "execute_result"
    }
   ],
   "source": [
    "from qiskit import QuantumCircuit\n",
    "from qiskit.quantum_info import random_unitary\n",
    "\n",
    "seed = 42\n",
    "\n",
    "# Create a Quantum Circuit with 2 qubits\n",
    "qc = QuantumCircuit(2)\n",
    "\n",
    "# Apply random gate to first qubit\n",
    "qc.unitary(random_unitary(2, seed=seed), [0])\n",
    "\n",
    "# Apply random 2-qubit gate\n",
    "qc.unitary(random_unitary(4, seed=seed), [0, 1])\n",
    "\n",
    "# Draw the circuit\n",
    "qc.draw('mpl')"
   ]
  },
  {
   "cell_type": "code",
   "execution_count": null,
   "metadata": {},
   "outputs": [
    {
     "data": {
      "image/png": "[encoded data removed]",
      "text/plain": [
       "<Figure size 454.517x200.667 with 1 Axes>"
      ]
     },
     "execution_count": 7,
     "metadata": {},
     "output_type": "execute_result"
    }
   ],
   "source": [
    "from qiskit import transpile\n",
    "from qiskit_aer import QasmSimulator\n",
    "import qiskit.qasm3\n",
    "\n",
    "backend = QasmSimulator()\n",
    "\n",
    "qc = transpile(qc, backend)\n",
    "\n",
    "qc.draw('mpl')\n",
    "\n",
    "qasm = qiskit.qasm3.dumps(qc)\n",
    "\n",
    "with open('circuit.qasm', 'w') as f:\n",
    "    f.write(qasm)\n"
   ]
  },
  {
   "cell_type": "code",
   "execution_count": null,
   "metadata": {},
   "outputs": [],
   "source": []
  },
  {
   "cell_type": "code",
   "execution_count": null,
   "metadata": {},
   "outputs": [
    {
     "name": "stdout",
     "output_type": "stream",
     "text": [
      "\u001b[1m\u001b[32m    Finished\u001b[0m `release` profile [optimized] target(s) in 0.05s\n",
      "\u001b[1m\u001b[33mwarning\u001b[0m\u001b[1m:\u001b[0m the following packages contain code that will be rejected by a future version of Rust: ra_ap_stdx v0.0.188\n",
      "\u001b[1m\u001b[36mnote\u001b[0m\u001b[1m:\u001b[0m to see what the problems were, use the option `--future-incompat-report`, or run `cargo report future-incompatibilities --id 1`\n"
     ]
    }
   ],
   "source": [
    "!cd ../HPPS24-Quantum-Simulation/qcs-host/ && cargo build -r --bin export\n",
    "!../HPPS24-Quantum-Simulation/qcs-host/target/release/export -o db_leo.sqlite circuit.qasm"
   ]
  }
 ],
 "metadata": {
  "kernelspec": {
   "display_name": "venv",
   "language": "python",
   "name": "python3"
  },
  "language_info": {
   "codemirror_mode": {
    "name": "ipython",
    "version": 3
   },
   "file_extension": ".py",
   "mimetype": "text/x-python",
   "name": "python",
   "nbconvert_exporter": "python",
   "pygments_lexer": "ipython3",
   "version": "3.12.7"
  }
 },
 "nbformat": 4,
 "nbformat_minor": 2
}
