{
 "cells": [
  {
   "cell_type": "code",
   "execution_count": 1,
   "metadata": {},
   "outputs": [],
   "source": [
    "# from qiskit.circuit.random import random_circuit\n",
    "\n",
    "# # Define the number of qubits and the number of gates (depth)\n",
    "# num_qubits = 10\n",
    "# depth = 100\n",
    "\n",
    "# # Generate a random circuit\n",
    "# qc = random_circuit(num_qubits=num_qubits, depth=depth, max_operands=4, measure=False)\n",
    "\n",
    "# # Draw the circuit\n",
    "# # random_qc.draw('mpl')"
   ]
  },
  {
   "cell_type": "code",
   "execution_count": 2,
   "metadata": {},
   "outputs": [
    {
     "data": {
      "image/png": "[encoded data removed]",
      "text/plain": [
       "<Figure size 454.517x200.667 with 1 Axes>"
      ]
     },
     "execution_count": 2,
     "metadata": {},
     "output_type": "execute_result"
    }
   ],
   "source": [
    "from qiskit import QuantumCircuit\n",
    "from qiskit.quantum_info import random_unitary\n",
    "\n",
    "seed = 42\n",
    "\n",
    "# Create a Quantum Circuit with 2 qubits\n",
    "qc = QuantumCircuit(2)\n",
    "\n",
    "# Apply random gate to first qubit\n",
    "qc.unitary(random_unitary(2, seed=seed), [0])\n",
    "\n",
    "# Apply random 2-qubit gate\n",
    "qc.unitary(random_unitary(4, seed=seed), [0, 1])\n",
    "\n",
    "# Draw the circuit\n",
    "qc.draw('mpl')"
   ]
  },
  {
   "cell_type": "code",
   "execution_count": 3,
   "metadata": {},
   "outputs": [],
   "source": [
    "class Gate:\n",
    "    def __init__(self, qubits, unitary):\n",
    "        self.qubits = qubits  # span of qubits on which the gate acts\n",
    "        self.unitary = unitary  # unitary matrix representing the gate\n",
    "\n",
    "    def __repr__(self):\n",
    "        return f'Gate(qubits={self.qubits}, unitary=\\n{self.unitary})'"
   ]
  },
  {
   "cell_type": "code",
   "execution_count": null,
   "metadata": {},
   "outputs": [
    {
     "name": "stdout",
     "output_type": "stream",
     "text": [
      "Gate(qubits=[0], unitary=\n",
      "[[ 0.14398279-0.92188954j -0.05864249+0.35489392j]\n",
      " [ 0.35459797+0.06040626j  0.91839541+0.16480666j]])\n",
      "\n",
      "Gate(qubits=[0, 1], unitary=\n",
      "[[ 0.14480819+0.1752384j  -0.51892816-0.52424259j -0.14955858+0.312755j\n",
      "   0.16913481-0.50538631j]\n",
      " [-0.92717439-0.08785062j -0.11260331-0.1818585j   0.12255872+0.09640286j\n",
      "  -0.24498509-0.05045841j]\n",
      " [-0.00798428-0.20355071j -0.38932055-0.05180925j  0.26051706+0.32864025j\n",
      "   0.44517308+0.65589332j]\n",
      " [ 0.03137922+0.19613952j  0.4980475 +0.08846049j  0.34078865+0.750661j\n",
      "   0.01464807-0.15755843j]])\n",
      "\n"
     ]
    }
   ],
   "source": [
    "from qiskit import QuantumCircuit\n",
    "from qiskit.quantum_info import Operator\n",
    "\n",
    "# 0 1 2 ->  0 1 2\n",
    "# 3 9 10 -> 0 1 2\n",
    "# 8 3 1 -> 2 1 0\n",
    "# 7 8 0 -> 1 2 0\n",
    "# 6 7 5 -> 1 2 0\n",
    "# 1 0   -> 1 0\n",
    "def remap_qubits(qubits):\n",
    "    sorted_unique = sorted(set(qubits))\n",
    "    rank_dict = {num: rank for rank, num in enumerate(sorted_unique)}\n",
    "    return [rank_dict[num] for num in qubits]\n",
    "\n",
    "\n",
    "gates_list = []\n",
    "\n",
    "n_qubits = qc.num_qubits\n",
    "\n",
    "for instruction in qc.data:\n",
    "    gate_operation = instruction.operation\n",
    "    # qubits = [n_qubits - qubit._index - 1 for qubit in instruction.qubits]\n",
    "    qubits = [qubit._index for qubit in instruction.qubits]\n",
    "    \n",
    "    single_gate_circuit = QuantumCircuit(len(qubits))\n",
    "    single_gate_circuit.append(gate_operation, remap_qubits(qubits))\n",
    "    unitary_matrix = Operator(single_gate_circuit).data\n",
    "\n",
    "    gates_list.append(Gate(qubits, unitary_matrix))\n",
    "\n",
    "for gate in gates_list:\n",
    "    print(gate)\n",
    "    print()"
   ]
  },
  {
   "cell_type": "code",
   "execution_count": 5,
   "metadata": {},
   "outputs": [],
   "source": [
    "class TreeNode:\n",
    "    def __init__(self, gate = None):\n",
    "        self.left = None\n",
    "        self.right = None\n",
    "        self.span = None if gate is None else gate.qubits\n",
    "        self.gate = gate\n",
    "\n",
    "    def __repr__(self):\n",
    "        return f'TreeNode(span={self.span}, left={self.left}, right={self.right})'"
   ]
  },
  {
   "cell_type": "code",
   "execution_count": 6,
   "metadata": {},
   "outputs": [],
   "source": [
    "def build_tree(node_list):\n",
    "    # iterate the list, when you find two consecutive gates having some qubits in common, create a new node with these gates as children and remove them from the list\n",
    "\n",
    "    while len(node_list) > 1:\n",
    "        for i in range(len(node_list) - 1):\n",
    "            if node_list[i].span is None or node_list[i + 1].span is None:\n",
    "                continue\n",
    "\n",
    "            if len(set(node_list[i].span).intersection(node_list[i + 1].span)) > 0:\n",
    "                new_node = TreeNode()\n",
    "                new_node.left  = node_list[i ]\n",
    "                new_node.right = node_list[i + 1]\n",
    "                new_node.span = list(set(node_list[i].span).union(node_list[i + 1].span))\n",
    "                node_list[i] = new_node\n",
    "                node_list.pop(i + 1)\n",
    "                break\n",
    "\n",
    "    return node_list[0]"
   ]
  },
  {
   "cell_type": "code",
   "execution_count": 7,
   "metadata": {},
   "outputs": [
    {
     "name": "stdout",
     "output_type": "stream",
     "text": [
      "TreeNode(span=[0, 1], left=TreeNode(span=[0], left=None, right=None), right=TreeNode(span=[0, 1], left=None, right=None))\n",
      "1\n",
      "Contraction time: 0.00010919570922851562 seconds\n"
     ]
    }
   ],
   "source": [
    "import time\n",
    "\n",
    "start_time = time.time()\n",
    "\n",
    "node_list = [TreeNode(gate) for gate in gates_list]\n",
    "root = build_tree(node_list)\n",
    "\n",
    "end_time = time.time()\n",
    "contraction_time = end_time - start_time\n",
    "\n",
    "print(root)\n",
    "print(len(node_list))\n",
    "print(f\"Contraction time: {contraction_time} seconds\")"
   ]
  },
  {
   "cell_type": "code",
   "execution_count": 8,
   "metadata": {},
   "outputs": [],
   "source": [
    "# create four sqlite tables: gates, qubits, circuit, circuit_gates and a db\n",
    "import sqlite3\n",
    "\n",
    "db_filename = 'data/quantum_circuit.db'\n",
    "\n",
    "# remove the db\n",
    "import os\n",
    "try:\n",
    "    os.remove(db_filename)\n",
    "except FileNotFoundError:\n",
    "    pass\n",
    "\n",
    "# Connect to SQLite database (or create it if it doesn't exist)\n",
    "conn = sqlite3.connect(db_filename)\n",
    "c = conn.cursor()\n",
    "\n",
    "# Create additional tables\n",
    "c.execute('''CREATE TABLE IF NOT EXISTS contractions (\n",
    "                id INTEGER PRIMARY KEY AUTOINCREMENT,\n",
    "                program_id INTEGER NOT NULL,\n",
    "                span TEXT NOT NULL,\n",
    "                left_id INTEGER DEFAULT NULL,\n",
    "                right_id INTEGER DEFAULT NULL,\n",
    "                kind TEXT NOT NULL,\n",
    "                gate_id INTEGER DEFAULT NULL,\n",
    "                FOREIGN KEY (program_id) REFERENCES programs (id),\n",
    "                FOREIGN KEY (left_id) REFERENCES contractions (id),\n",
    "                FOREIGN KEY (right_id) REFERENCES contractions (id),\n",
    "                CHECK( ( kind = 'C' AND left_id IS NOT NULL AND right_id IS NOT NULL AND gate_id IS NULL ) \n",
    "                       OR ( kind = 'G' AND left_id IS NULL AND right_id IS NULL AND gate_id IS NOT NULL ) )\n",
    "            )''')\n",
    "\n",
    "c.execute('''CREATE TABLE IF NOT EXISTS experiments (\n",
    "                id INTEGER PRIMARY KEY AUTOINCREMENT,\n",
    "                program_id INTEGER NOT NULL,\n",
    "                input_vector BLOB NOT NULL,\n",
    "                output_vector BLOB NOT NULL,\n",
    "                FOREIGN KEY (program_id) REFERENCES programs (id)\n",
    "            )''')\n",
    "\n",
    "c.execute('''CREATE TABLE IF NOT EXISTS gates (\n",
    "                id INTEGER PRIMARY KEY AUTOINCREMENT,\n",
    "                rank INTEGER NOT NULL,\n",
    "                data BLOB NOT NULL\n",
    "            )''')\n",
    "\n",
    "c.execute('''CREATE TABLE IF NOT EXISTS programs (\n",
    "                id INTEGER PRIMARY KEY AUTOINCREMENT,\n",
    "                filename TEXT NOT NULL,\n",
    "                contraction_cpu_time_us INTEGER DEFAULT NULL,\n",
    "                tree_building_time_us INTEGER DEFAULT NULL\n",
    "            )''')\n",
    "\n",
    "# insert a program into the db\n",
    "filename = 'test.qasm'\n",
    "text = \"NULL\"\n",
    "contraction_cpu_time_us = int(contraction_time * 1e6)\n",
    "\n",
    "c.execute('''INSERT INTO programs (filename, contraction_cpu_time_us) VALUES (?, ?)''', (filename, contraction_cpu_time_us))\n",
    "\n",
    "# insert the tree into the db\n",
    "def insert_tree(node):\n",
    "    if node.span is None:\n",
    "        return\n",
    "\n",
    "    if node.left is None and node.right is None:\n",
    "        kind = 'G'\n",
    "        # add gate to the gates table\n",
    "        c.execute('''INSERT INTO gates (rank, data) VALUES (?, ?)''', (len(node.gate.qubits), node.gate.unitary.tobytes()))\n",
    "        gate_id = c.lastrowid\n",
    "        min_span = min(node.span)\n",
    "        max_span = max(node.span)\n",
    "        node_span_str = f'[{min_span}, {max_span}]'\n",
    "        c.execute('''INSERT INTO contractions (program_id, span, kind, gate_id) VALUES (?, ?, ?, ?)''', (1, node_span_str, kind, gate_id))\n",
    "    else:\n",
    "        kind = 'C'\n",
    "        left_id = insert_tree(node.left)\n",
    "        right_id = insert_tree(node.right)\n",
    "        c.execute('''INSERT INTO contractions (program_id, span, kind, left_id, right_id) VALUES (?, ?, ?, ?, ?)''', (1, str(node.span), kind, left_id, right_id))\n",
    "\n",
    "    return c.lastrowid\n",
    "\n",
    "insert_tree(root)\n",
    "\n",
    "# Commit changes and close the connection\n",
    "conn.commit()\n",
    "conn.close()\n"
   ]
  },
  {
   "cell_type": "code",
   "execution_count": 9,
   "metadata": {},
   "outputs": [
    {
     "name": "stdout",
     "output_type": "stream",
     "text": [
      "Input state: Statevector([ 0.10614794-0.67964147j, -0.36227759-0.45361314j,\n",
      "              0.26141904+0.0445331j ,  0.32764493-0.11016284j],\n",
      "            dims=(2, 2))\n",
      "Output state: Statevector([-0.20807198+0.18276721j,  0.18440946+0.40531767j,\n",
      "              0.2305648 +0.64038383j,  0.13961856-0.49220729j],\n",
      "            dims=(2, 2))\n",
      "Execution time: 0.0009388923645019531 seconds\n"
     ]
    }
   ],
   "source": [
    "import numpy as np\n",
    "import time\n",
    "from qiskit_aer import Aer\n",
    "from qiskit.quantum_info import random_statevector\n",
    "\n",
    "# Generate a random state vector\n",
    "input_state = random_statevector(2**qc.num_qubits, seed=seed)\n",
    "\n",
    "# Set up the backend\n",
    "backend = Aer.get_backend('statevector_simulator')\n",
    "\n",
    "qc_init = QuantumCircuit(qc.num_qubits)\n",
    "\n",
    "# Initialize the input state\n",
    "qc_init.initialize(input_state.data, range(qc.num_qubits))\n",
    "\n",
    "# Combine the initialization circuit with the original circuit\n",
    "qc_init.compose(qc, inplace=True)\n",
    "\n",
    "# Execute the circuit\n",
    "start_time = time.time()\n",
    "result = backend.run(qc_init).result()\n",
    "end_time = time.time()\n",
    "\n",
    "# Get the output state vector\n",
    "output_state = result.get_statevector(qc_init)\n",
    "\n",
    "result_referece = np.asarray(output_state, np.complex128)\n",
    "\n",
    "# Calculate the time taken\n",
    "execution_time = end_time - start_time\n",
    "\n",
    "print(f\"Input state: {input_state}\")\n",
    "print(f\"Output state: {output_state}\")\n",
    "print(f\"Execution time: {execution_time} seconds\")\n",
    "\n",
    "# Connect to SQLite database (or create it if it doesn't exist)\n",
    "conn = sqlite3.connect(db_filename)\n",
    "c = conn.cursor()\n",
    "\n",
    "# insert an experiment into the db\n",
    "input_vector  = np.asarray(input_state,  np.complex128).data.tobytes()\n",
    "output_vector = np.asarray(output_state, np.complex128).data.tobytes()\n",
    "\n",
    "c.execute('''INSERT INTO experiments (program_id, input_vector, output_vector) VALUES (?, ?, ?)''', (1, input_vector, output_vector))\n",
    "\n",
    "# Commit changes and close the connection\n",
    "conn.commit()\n",
    "conn.close()"
   ]
  },
  {
   "cell_type": "code",
   "execution_count": 10,
   "metadata": {},
   "outputs": [
    {
     "name": "stdout",
     "output_type": "stream",
     "text": [
      "Unitary matrix of the circuit:\n",
      "[[ 0.030057  -0.3255077j  -0.46086552-0.52586967j  0.35729506+0.01391567j\n",
      "   0.13639931-0.50768809j]\n",
      " [-0.24342923+0.7708148j   0.01210659-0.50947256j  0.02269592-0.13179633j\n",
      "  -0.25807724-0.04887391j]\n",
      " [-0.32372354-0.06383603j -0.27630458-0.10264085j  0.45871739+0.06662027j\n",
      "   0.16883953+0.74892055j]\n",
      " [ 0.3566001 +0.06076563j  0.37137678+0.16295744j  0.75580591-0.26107229j\n",
      "  -0.24697032-0.06536364j]]\n"
     ]
    }
   ],
   "source": [
    "from qiskit.quantum_info import Operator\n",
    "\n",
    "# Get the unitary matrix of the quantum circuit\n",
    "unitary_matrix = Operator(qc).data\n",
    "\n",
    "print(\"Unitary matrix of the circuit:\")\n",
    "print(unitary_matrix)"
   ]
  },
  {
   "cell_type": "code",
   "execution_count": 11,
   "metadata": {},
   "outputs": [
    {
     "name": "stdout",
     "output_type": "stream",
     "text": [
      "Output state vector obtained by multiplying the unitary matrix with the input state vector:\n",
      "[-0.20807198+0.18276721j  0.18440946+0.40531767j  0.2305648 +0.64038383j\n",
      "  0.13961856-0.49220729j]\n",
      "Reference output state vector:\n",
      "[-0.20807198+0.18276721j  0.18440946+0.40531767j  0.2305648 +0.64038383j\n",
      "  0.13961856-0.49220729j]\n"
     ]
    }
   ],
   "source": [
    "import numpy as np\n",
    "\n",
    "result_dot = np.dot(unitary_matrix, input_state.data)\n",
    "\n",
    "print(\"Output state vector obtained by multiplying the unitary matrix with the input state vector:\")\n",
    "print(result_dot)\n",
    "\n",
    "print(\"Reference output state vector:\")\n",
    "print(result_referece)"
   ]
  }
 ],
 "metadata": {
  "kernelspec": {
   "display_name": "venv",
   "language": "python",
   "name": "python3"
  },
  "language_info": {
   "codemirror_mode": {
    "name": "ipython",
    "version": 3
   },
   "file_extension": ".py",
   "mimetype": "text/x-python",
   "name": "python",
   "nbconvert_exporter": "python",
   "pygments_lexer": "ipython3",
   "version": "3.12.7"
  }
 },
 "nbformat": 4,
 "nbformat_minor": 2
}
